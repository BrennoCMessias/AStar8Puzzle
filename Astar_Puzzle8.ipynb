{
 "cells": [
  {
   "cell_type": "markdown",
   "metadata": {},
   "source": []
  },
  {
   "cell_type": "code",
   "execution_count": 1,
   "metadata": {},
   "outputs": [
    {
     "name": "stdout",
     "output_type": "stream",
     "text": [
      "Digite os números da matriz inicial, separados por espaço. Use 'x' para a peça vazia.\n"
     ]
    },
    {
     "ename": "IndexError",
     "evalue": "list index out of range",
     "output_type": "error",
     "traceback": [
      "\u001b[1;31m---------------------------------------------------------------------------\u001b[0m",
      "\u001b[1;31mIndexError\u001b[0m                                Traceback (most recent call last)",
      "\u001b[1;32mc:\\Users\\brenn\\Downloads\\Astar_Puzzle8.ipynb Cell 2\u001b[0m line \u001b[0;36m6\n\u001b[0;32m     <a href='vscode-notebook-cell:/c%3A/Users/brenn/Downloads/Astar_Puzzle8.ipynb#W5sZmlsZQ%3D%3D?line=63'>64</a>\u001b[0m steps \u001b[39m=\u001b[39m []  \u001b[39m# Lista para armazenar os tabuleiros a cada passo\u001b[39;00m\n\u001b[0;32m     <a href='vscode-notebook-cell:/c%3A/Users/brenn/Downloads/Astar_Puzzle8.ipynb#W5sZmlsZQ%3D%3D?line=64'>65</a>\u001b[0m steps\u001b[39m.\u001b[39mappend(deepcopy(tabuleiro_inicial))\n\u001b[1;32m---> <a href='vscode-notebook-cell:/c%3A/Users/brenn/Downloads/Astar_Puzzle8.ipynb#W5sZmlsZQ%3D%3D?line=66'>67</a>\u001b[0m open_list \u001b[39m=\u001b[39m [(heuristic(tabuleiro_inicial, tabuleiro_base), tabuleiro_inicial, \u001b[39m\"\u001b[39m\u001b[39m\"\u001b[39m)]\n\u001b[0;32m     <a href='vscode-notebook-cell:/c%3A/Users/brenn/Downloads/Astar_Puzzle8.ipynb#W5sZmlsZQ%3D%3D?line=67'>68</a>\u001b[0m closed_set \u001b[39m=\u001b[39m \u001b[39mset\u001b[39m()\n\u001b[0;32m     <a href='vscode-notebook-cell:/c%3A/Users/brenn/Downloads/Astar_Puzzle8.ipynb#W5sZmlsZQ%3D%3D?line=68'>69</a>\u001b[0m solved \u001b[39m=\u001b[39m \u001b[39mFalse\u001b[39;00m\n",
      "\u001b[1;32mc:\\Users\\brenn\\Downloads\\Astar_Puzzle8.ipynb Cell 2\u001b[0m line \u001b[0;36m9\n\u001b[0;32m      <a href='vscode-notebook-cell:/c%3A/Users/brenn/Downloads/Astar_Puzzle8.ipynb#W5sZmlsZQ%3D%3D?line=6'>7</a>\u001b[0m \u001b[39mfor\u001b[39;00m i \u001b[39min\u001b[39;00m \u001b[39mrange\u001b[39m(\u001b[39m3\u001b[39m):\n\u001b[0;32m      <a href='vscode-notebook-cell:/c%3A/Users/brenn/Downloads/Astar_Puzzle8.ipynb#W5sZmlsZQ%3D%3D?line=7'>8</a>\u001b[0m     \u001b[39mfor\u001b[39;00m j \u001b[39min\u001b[39;00m \u001b[39mrange\u001b[39m(\u001b[39m3\u001b[39m):\n\u001b[1;32m----> <a href='vscode-notebook-cell:/c%3A/Users/brenn/Downloads/Astar_Puzzle8.ipynb#W5sZmlsZQ%3D%3D?line=8'>9</a>\u001b[0m         num \u001b[39m=\u001b[39m tabuleiro[i][j]\n\u001b[0;32m     <a href='vscode-notebook-cell:/c%3A/Users/brenn/Downloads/Astar_Puzzle8.ipynb#W5sZmlsZQ%3D%3D?line=9'>10</a>\u001b[0m         \u001b[39mif\u001b[39;00m num \u001b[39m!=\u001b[39m \u001b[39m'\u001b[39m\u001b[39mx\u001b[39m\u001b[39m'\u001b[39m:\n\u001b[0;32m     <a href='vscode-notebook-cell:/c%3A/Users/brenn/Downloads/Astar_Puzzle8.ipynb#W5sZmlsZQ%3D%3D?line=10'>11</a>\u001b[0m             num \u001b[39m=\u001b[39m \u001b[39mint\u001b[39m(num)\n",
      "\u001b[1;31mIndexError\u001b[0m: list index out of range"
     ]
    }
   ],
   "source": [
    "import heapq\n",
    "from copy import deepcopy\n",
    "\n",
    "# Função que calcula a heurística para um determinado tabuleiro.\n",
    "def heuristic(tabuleiro, tabuleiro_base):\n",
    "    total_distance = 0\n",
    "    for i in range(3):\n",
    "        for j in range(3):\n",
    "            num = tabuleiro[i][j]\n",
    "            if num != 'x':\n",
    "                num = int(num)\n",
    "                target_i, target_j = divmod(num - 1, 3)\n",
    "                total_distance += abs(i - target_i) + abs(j - target_j)\n",
    "    return total_distance\n",
    "\n",
    "# Função que encontra a posição da peça vazia ('x') no tabuleiro.\n",
    "def find_x(tabuleiro):\n",
    "    for i in range(3):\n",
    "        for j in range(3):\n",
    "            if tabuleiro[i][j] == 'x':\n",
    "                return i, j\n",
    "            \n",
    "# Função que imprime o tabuleiro na saída padrão.\n",
    "def print_tabuleiro(tabuleiro):\n",
    "    for linha in tabuleiro:\n",
    "        print(' '.join(linha))\n",
    "    print()\n",
    "\n",
    "# Função que resolve o quebra-cabeça usando o algoritmo A*.\n",
    "def solve_puzzle(tabuleiro_inicial, tabuleiro_base):\n",
    "    open_list = [(heuristic(tabuleiro_inicial, tabuleiro_base), tabuleiro_inicial, \"\")]\n",
    "    closed_set = set()\n",
    "    \n",
    "    while open_list:\n",
    "        _, current_tabuleiro, current_moves = heapq.heappop(open_list)\n",
    "        \n",
    "        if current_tabuleiro == tabuleiro_base:\n",
    "            return current_moves\n",
    "        \n",
    "        closed_set.add(tuple(map(tuple, current_tabuleiro)))\n",
    "        \n",
    "        x, y = find_x(current_tabuleiro)\n",
    "        directions = [(\"esq\", x, y-1), (\"dir\", x, y+1), (\"sobe\", x-1, y), (\"desce\", x+1, y)]\n",
    "        \n",
    "        for direction, new_x, new_y in directions:\n",
    "            if 0 <= new_x < 3 and 0 <= new_y < 3:\n",
    "                new_tabuleiro = deepcopy(current_tabuleiro)\n",
    "                new_tabuleiro[x][y], new_tabuleiro[new_x][new_y] = new_tabuleiro[new_x][new_y], new_tabuleiro[x][y]\n",
    "                if tuple(map(tuple, new_tabuleiro)) not in closed_set:\n",
    "                    new_moves = current_moves + direction[0]\n",
    "                    heapq.heappush(open_list, (heuristic(new_tabuleiro, tabuleiro_base) + len(new_moves), new_tabuleiro, new_moves))\n",
    "\n",
    "# Solicitar matriz inicial ao usuário\n",
    "tabuleiro_inicial = []\n",
    "print(\"Digite os números da matriz inicial, separados por espaço. Use 'x' para a peça vazia.\")\n",
    "for _ in range(3):\n",
    "    linha = input().split()\n",
    "    tabuleiro_inicial.append(linha)\n",
    "\n",
    "tabuleiro_base = [[\"1\", \"2\", \"3\"],\n",
    "                  [\"4\", \"5\", \"6\"],\n",
    "                  [\"7\", \"8\", \"x\"]]\n",
    "\n",
    "steps = []  # Lista para armazenar os tabuleiros a cada passo\n",
    "steps.append(deepcopy(tabuleiro_inicial))\n",
    "\n",
    "open_list = [(heuristic(tabuleiro_inicial, tabuleiro_base), tabuleiro_inicial, \"\")]\n",
    "closed_set = set()\n",
    "solved = False\n",
    "\n",
    "while open_list:\n",
    "    _, current_tabuleiro, current_moves = heapq.heappop(open_list)\n",
    "    \n",
    "    if current_tabuleiro == tabuleiro_base:\n",
    "        solved = True\n",
    "        break\n",
    "    \n",
    "    closed_set.add(tuple(map(tuple, current_tabuleiro)))\n",
    "    \n",
    "    x, y = find_x(current_tabuleiro)\n",
    "    directions = [(\"esq\", x, y-1), (\"dir\", x, y+1), (\"sobe\", x-1, y), (\"desce\", x+1, y)]\n",
    "    \n",
    "    for direction, new_x, new_y in directions:\n",
    "        if 0 <= new_x < 3 and 0 <= new_y < 3:\n",
    "            new_tabuleiro = deepcopy(current_tabuleiro)\n",
    "            new_tabuleiro[x][y], new_tabuleiro[new_x][new_y] = new_tabuleiro[new_x][new_y], new_tabuleiro[x][y]\n",
    "            if tuple(map(tuple, new_tabuleiro)) not in closed_set:\n",
    "                new_moves = current_moves + direction[0]\n",
    "                heapq.heappush(open_list, (heuristic(new_tabuleiro, tabuleiro_base) + len(new_moves), new_tabuleiro, new_moves))\n",
    "                steps.append(deepcopy(new_tabuleiro))\n",
    "\n",
    "if solved:\n",
    "    print(\"Solução encontrada!\")\n",
    "    print(\"Número de movimentos:\", len(current_moves))\n",
    "else:\n",
    "    print(\"Não foi possível encontrar uma solução.\")\n",
    "\n",
    "while True:\n",
    "    choice = input(\"Digite o número do passo que deseja visualizar (ou 'sair' para sair): \")\n",
    "    if choice == \"sair\":\n",
    "        break\n",
    "    try:\n",
    "        step_num = int(choice)\n",
    "        if 0 <= step_num < len(steps):\n",
    "            print_tabuleiro(steps[step_num])\n",
    "        else:\n",
    "            print(\"Passo inválido.\")\n",
    "    except ValueError:\n",
    "        print(\"Entrada inválida. Digite um número válido ou 'sair'.\")\n"
   ]
  },
  {
   "cell_type": "code",
   "execution_count": null,
   "metadata": {},
   "outputs": [],
   "source": [
    "#Versão A.1"
   ]
  }
 ],
 "metadata": {
  "colab": {
   "provenance": []
  },
  "kernelspec": {
   "display_name": "Python 3 (ipykernel)",
   "language": "python",
   "name": "python3"
  },
  "language_info": {
   "codemirror_mode": {
    "name": "ipython",
    "version": 3
   },
   "file_extension": ".py",
   "mimetype": "text/x-python",
   "name": "python",
   "nbconvert_exporter": "python",
   "pygments_lexer": "ipython3",
   "version": "3.11.4"
  }
 },
 "nbformat": 4,
 "nbformat_minor": 1
}
